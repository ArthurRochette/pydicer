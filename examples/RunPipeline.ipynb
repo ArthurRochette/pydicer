{
 "cells": [
  {
   "cell_type": "markdown",
   "metadata": {},
   "source": [
    "# Example Notebook to run pydicer\n",
    "\n",
    "This notebooks provides a basic example to run the pydicer pipeline using some test data."
   ]
  },
  {
   "cell_type": "code",
   "execution_count": null,
   "metadata": {},
   "outputs": [],
   "source": [
    "import sys\n",
    "sys.path.insert(0, \"..\")\n",
    "\n",
    "from pathlib import Path\n",
    "\n",
    "from pydicer.input.test import TestInput\n",
    "from pydicer.preprocess.data import PreprocessData\n",
    "from pydicer.convert.data import ConvertData\n",
    "from pydicer.visualise.data import VisualiseData\n",
    "from pydicer.dataset.preparation import PrepareDataset"
   ]
  },
  {
   "cell_type": "markdown",
   "metadata": {},
   "source": [
    "## Setup directories\n",
    "\n",
    "First we'll set up some directories in which to fetch and convert our data. Change the `directory`\n",
    "location to a folder on your system where you'd like to work with this data."
   ]
  },
  {
   "cell_type": "code",
   "execution_count": null,
   "metadata": {},
   "outputs": [],
   "source": [
    "\n",
    "directory = Path(\"./data\")\n",
    "directory.mkdir(exist_ok=True, parents=True)\n",
    "\n",
    "dicom_directory = directory.joinpath(\"dicom\")\n",
    "dicom_directory.mkdir(exist_ok=True, parents=True)\n",
    "\n",
    "nifti_directory = directory.joinpath(\"nifti\")\n",
    "nifti_directory.mkdir(exist_ok=True, parents=True)\n",
    "\n",
    "clean_directory  = directory.joinpath(\"clean\")\n"
   ]
  },
  {
   "cell_type": "markdown",
   "metadata": {},
   "source": [
    "## Fetch some data\n",
    "\n",
    "A TestInput class is provided in pydicer to download some sample data to work with. Several other\n",
    "input classes exist if you'd like to retrieve DICOM data for conversion from somewhere else, [see \n",
    "the docs for information on how these work](https://australiancancerdatanetwork.github.io/pydicer/html/input.html)."
   ]
  },
  {
   "cell_type": "code",
   "execution_count": null,
   "metadata": {},
   "outputs": [],
   "source": [
    "test_input = TestInput(dicom_directory)\n",
    "test_input.fetch_data()"
   ]
  },
  {
   "cell_type": "markdown",
   "metadata": {},
   "source": [
    "## Preprocess the data\n",
    "\n",
    "Before pydicer goes ahead and converts all the data, it first runs through it all once to figure\n",
    "out how it is linked and move invalid data to the quarantine folder."
   ]
  },
  {
   "cell_type": "code",
   "execution_count": null,
   "metadata": {},
   "outputs": [],
   "source": [
    "preprocessed_data = PreprocessData(dicom_directory, nifti_directory)\n",
    "preprocessed_result = preprocessed_data.preprocess()"
   ]
  },
  {
   "cell_type": "markdown",
   "metadata": {},
   "source": [
    "# Convert the data\n",
    "\n",
    "Next we convert all the DICOM data into Nifti format. Check out the nifti folder to see the files\n",
    "arrive as they are converted!\n",
    "\n",
    "Alongside the Nifti files there are also a few other files made available. The JSON files which is\n",
    "output stores all of the meta data from the original DICOM so that you can use it later."
   ]
  },
  {
   "cell_type": "code",
   "execution_count": null,
   "metadata": {},
   "outputs": [],
   "source": [
    "convert_data = ConvertData(preprocessed_result, output_directory=nifti_directory)\n",
    "convert_data.convert()"
   ]
  },
  {
   "cell_type": "markdown",
   "metadata": {},
   "source": [
    "# Visualise the data\n",
    "\n",
    "Nifti format is great, but it can be a bit time consuming to load each file in to 3D Slicer or a\n",
    "similar tool to look at it. So in this step some visualisations providing snapshots of the images,\n",
    "structures and dose will be saved along side the converted files in PNG format."
   ]
  },
  {
   "cell_type": "code",
   "execution_count": null,
   "metadata": {},
   "outputs": [],
   "source": [
    "visualise_data = VisualiseData(nifti_directory)\n",
    "visualise_data.visualise()"
   ]
  },
  {
   "cell_type": "markdown",
   "metadata": {},
   "source": [
    "# Prepare a dataset\n",
    "\n",
    "Datasets which are extracted in DICOM format can often be a bit messy and require some cleaning up\n",
    "after conversion. Exactly what data objects to extract for the clean dataset will differ by project\n",
    "but here we use a somewhat common approach of extracting the latest Structure Set for a patient and\n",
    "the image linked to that.\n"
   ]
  },
  {
   "cell_type": "code",
   "execution_count": null,
   "metadata": {},
   "outputs": [],
   "source": [
    "prepare_dataset = PrepareDataset(directory)\n",
    "prepare_dataset.prepare(\"clean\", \"rt_latest_struct\")"
   ]
  },
  {
   "cell_type": "markdown",
   "metadata": {},
   "source": []
  }
 ],
 "metadata": {
  "interpreter": {
   "hash": "814af119db7f8f2860617be3dcd1d37c560587d11c65bd58c45b1679d3ee6ea4"
  },
  "kernelspec": {
   "display_name": "Python 3.8.0 64-bit ('pydicer': pyenv)",
   "language": "python",
   "name": "python3"
  },
  "language_info": {
   "codemirror_mode": {
    "name": "ipython",
    "version": 3
   },
   "file_extension": ".py",
   "mimetype": "text/x-python",
   "name": "python",
   "nbconvert_exporter": "python",
   "pygments_lexer": "ipython3",
   "version": "3.8.0"
  },
  "orig_nbformat": 4
 },
 "nbformat": 4,
 "nbformat_minor": 2
}
