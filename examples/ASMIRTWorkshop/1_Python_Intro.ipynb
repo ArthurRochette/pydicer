{
 "cells": [
  {
   "attachments": {},
   "cell_type": "markdown",
   "metadata": {},
   "source": [
    "# Part 1: Python Introduction\n",
    "\n",
    "This notebook is part of the **Radiotherapy image data analysis using Python** Workshop at ASMIRT 2023 in Sydney, Australia.\n",
    "\n",
    "In this part you will learn the basics around:\n",
    "- Python syntax\n",
    "- Python data types (String, Numbers, Lists and Dictionaries)\n",
    "- Installing Python libraries\n",
    "- Pandas DataFrames\n",
    "- Plotting\n",
    "\n",
    "## Python Syntax\n",
    "\n",
    "First, let's take a look at some basic Python syntax."
   ]
  },
  {
   "cell_type": "code",
   "execution_count": null,
   "metadata": {},
   "outputs": [],
   "source": [
    "# Comment you code by using the # symbol\n",
    "\n",
    "# Print some text using the print function\n",
    "print(\"Hello Python!\")\n",
    "\n",
    "# Define variables using the following syntax\n",
    "my_lucky_number = 42\n",
    "# Tip: Variable names are typically define all in lowercase and use underscores (_) to separate\n",
    "# words. You can't use spaces in variable names.\n",
    "\n",
    "# In Python, indentation of lines is used to nest blocks of code together. In the following\n",
    "# example, the value is only printed if your lucky number is over 21. Take note of the indentation.\n",
    "\n",
    "if my_lucky_number > 21:\n",
    "    print(f\"My lucky number is {my_lucky_number}\")"
   ]
  },
  {
   "attachments": {},
   "cell_type": "markdown",
   "metadata": {},
   "source": [
    "## Python Data Types\n",
    "\n",
    "Your Python variables can store all sorts of data objects. In this example we'll see how some basic\n",
    "data types are stored in Python."
   ]
  },
  {
   "cell_type": "code",
   "execution_count": null,
   "metadata": {},
   "outputs": [],
   "source": [
    "# We can store an integer (whole) number\n",
    "my_lucky_number = 42\n",
    "\n",
    "# Or a floating point number\n",
    "my_unlucky_number = 13.13\n",
    "\n",
    "# And we can perform mathematically operations on this\n",
    "my_sum = my_lucky_number + my_unlucky_number\n",
    "\n",
    "# Storing a string value is easy\n",
    "my_string = \"Hello Python\"\n",
    "\n",
    "# Let's print it all out\n",
    "print(f\"{my_string}, the sum of my lucky and unlucky numbers is {my_sum}\")"
   ]
  },
  {
   "cell_type": "code",
   "execution_count": null,
   "metadata": {},
   "outputs": [],
   "source": [
    "# Lists can store a collection of data objects\n",
    "my_list = [1, 2, 3, 4, 5]\n",
    "\n",
    "# Access values in a list by using the index value at which they are stored\n",
    "print(f\"The third element of the list is {my_list[2]}\")\n",
    "\n",
    "# And dictionary objects can store collections that can be accessed using a key\n",
    "my_dict = {\n",
    "    \"my_lucky_number\": 42,\n",
    "    \"my_unlucky_number\": 13.13\n",
    "}\n",
    "\n",
    "# Access values in a dictionary by using the key\n",
    "print(f\"My lucky number is: {my_lucky_number}\")"
   ]
  },
  {
   "cell_type": "code",
   "execution_count": null,
   "metadata": {},
   "outputs": [],
   "source": [
    "my_list_of_dicts = [\n",
    "    {\"name\": \"Alice\", \"lucky_number\": 21, \"unlucky_number\": 11},\n",
    "    {\"name\": \"Bob\", \"lucky_number\": 20, \"unlucky_number\": 1},\n",
    "    {\"name\": \"Jane\", \"lucky_number\": 12, \"unlucky_number\": 3}\n",
    "]\n",
    "\n",
    "# We can print the entire list if we want\n",
    "print(my_list_of_dicts)"
   ]
  },
  {
   "attachments": {},
   "cell_type": "markdown",
   "metadata": {},
   "source": [
    "## Installing Python Libraries\n",
    "\n",
    "Python provides a tool named `pip` which can be used to install libraries provided by the\n",
    "community. These libraries can provide all sorts of useful functionality and are mostly\n",
    "open-source and completely free to use!\n",
    "\n",
    "In this example we will install two popualr libraries, **pandas** used for working with tablular\n",
    "data, and **seaborn** which is used for plotting."
   ]
  },
  {
   "cell_type": "code",
   "execution_count": null,
   "metadata": {},
   "outputs": [],
   "source": [
    "! pip install pandas seaborn"
   ]
  },
  {
   "attachments": {},
   "cell_type": "markdown",
   "metadata": {},
   "source": [
    "## Pandas DataFrames\n",
    "\n",
    "The **pandas** library we just installed is extrememly popular with data scientists since it\n",
    "provides lots of functionality to store, manipulate and analyse data in tabular form.\n",
    "\n",
    "Let's create a DataFrame using the list of dictionaries we created above."
   ]
  },
  {
   "cell_type": "code",
   "execution_count": null,
   "metadata": {},
   "outputs": [],
   "source": [
    "# First, we must import the library. To do this we use the import keyword. Here we also give the\n",
    "# library and optional alias by which we can refer to it in our code.\n",
    "import pandas as pd\n",
    "import seaborn as sns"
   ]
  },
  {
   "cell_type": "code",
   "execution_count": null,
   "metadata": {},
   "outputs": [],
   "source": [
    "# We can create a DataFrame object by using our list of dictionaries\n",
    "df = pd.DataFrame(my_list_of_dicts)\n",
    "\n",
    "# And we can display the DataFrame in a notebook inserting the name of the variable at the end of a\n",
    "# cell.\n",
    "df"
   ]
  },
  {
   "cell_type": "code",
   "execution_count": null,
   "metadata": {},
   "outputs": [],
   "source": [
    "# Now can perform operation like filtering the data\n",
    "df[df.lucky_number>=20]"
   ]
  },
  {
   "cell_type": "code",
   "execution_count": null,
   "metadata": {},
   "outputs": [],
   "source": [
    "# The data we are using so far isn't very intersting, but seaborn provides some data for us to play\n",
    "# around with, so let's load that and take a look at the first few rows\n",
    "\n",
    "iris = sns.load_dataset('iris')\n",
    "iris.head()"
   ]
  },
  {
   "attachments": {},
   "cell_type": "markdown",
   "metadata": {},
   "source": [
    "## Plotting\n",
    "\n",
    "Finally, let's visualise this data by using the **seaborn** library. **seaborn** works well with\n",
    "**pandas**, in this example we will produce a box plot by providing the `iris` DataFrame and\n",
    "specifying which columns should be used to plot the x- and y-axis."
   ]
  },
  {
   "cell_type": "code",
   "execution_count": null,
   "metadata": {},
   "outputs": [],
   "source": [
    "sns.boxplot(data=iris, y=\"sepal_length\", x=\"species\")"
   ]
  },
  {
   "attachments": {},
   "cell_type": "markdown",
   "metadata": {},
   "source": [
    "## Exercise\n",
    "\n",
    "In the empty cells below, try adapting the code from above to produce some different plots."
   ]
  },
  {
   "cell_type": "code",
   "execution_count": null,
   "metadata": {},
   "outputs": [],
   "source": [
    "# Produce a box plot with the petal_width on the y-axis\n",
    "\n"
   ]
  },
  {
   "cell_type": "code",
   "execution_count": null,
   "metadata": {},
   "outputs": [],
   "source": [
    "# Produce a scatter plot using the sns.scatterplot function, try using sepal_width on the y-axis\n",
    "# and sepal_length on the y-axis\n",
    "\n"
   ]
  },
  {
   "cell_type": "code",
   "execution_count": null,
   "metadata": {},
   "outputs": [],
   "source": [
    "# Produce a scatter plot using our simple data in df. Plot the lucky numbers of the x-axis and the\n",
    "# unlucky numbers on the y-axis.\n",
    "\n"
   ]
  },
  {
   "cell_type": "code",
   "execution_count": null,
   "metadata": {},
   "outputs": [],
   "source": []
  }
 ],
 "metadata": {
  "kernelspec": {
   "display_name": "pydicer",
   "language": "python",
   "name": "python3"
  },
  "language_info": {
   "codemirror_mode": {
    "name": "ipython",
    "version": 3
   },
   "file_extension": ".py",
   "mimetype": "text/x-python",
   "name": "python",
   "nbconvert_exporter": "python",
   "pygments_lexer": "ipython3",
   "version": "3.8.0"
  },
  "orig_nbformat": 4,
  "vscode": {
   "interpreter": {
    "hash": "814af119db7f8f2860617be3dcd1d37c560587d11c65bd58c45b1679d3ee6ea4"
   }
  }
 },
 "nbformat": 4,
 "nbformat_minor": 2
}
